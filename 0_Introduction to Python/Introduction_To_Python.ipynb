{
 "cells": [
  {
   "cell_type": "markdown",
   "metadata": {},
   "source": [
    "<a id='start'></a>\n",
    "# Introduction to Python\n",
    "\n",
    "#### In questo primo notebook introdurremo i concetti fondamentali per iniziare ad usare Python.\n",
    "\n",
    "Il notebook è così suddiviso: <br>\n",
    "1) [Hello, Python](#section1)<a href='#section1'></a> <br>\n",
    "2) [Le funzioni](#section2)<a href='#section2'></a><br>\n",
    "3) [Booleans & Condizioni](#section3)<a href='#section3'></a> <br>\n",
    "4) [Le liste](#section4)<a href='#section4'></a> <br>\n",
    "5) [Loops](#section5)<a href='#section5'></a><br>\n",
    "6) [Le stringe](#section6)<a href='#section6'></a><br>\n",
    "7) [I dizionari](#section7)<a href='#section7'></a><br>\n",
    "8) [Le librerie esterne](#section8)<a href='#section8'></a>\n",
    "\n"
   ]
  },
  {
   "cell_type": "markdown",
   "metadata": {},
   "source": [
    "<a id='section1'></a>\n",
    "## 1) Hello, Python!"
   ]
  },
  {
   "cell_type": "markdown",
   "metadata": {},
   "source": [
    "Python è un linguaggio interpretato, ovvero a differenza di C++ (che è un linguaggio compilato), esegue il codice riga-per-riga, mentre C++ compila il codice e successivamente lo esegue.  <br>\n",
    "Il vantaggio dei linguaggi di programmazione \"interpretati\" è che sono più facili \"da leggere\", ma più lenti in esecuzione rispetto ad un linguaggio compilato. <br>\n",
    "Proviamo a leggere il seguente codice e a ipotizzare quale sarà il suo output:"
   ]
  },
  {
   "cell_type": "code",
   "execution_count": 2,
   "metadata": {},
   "outputs": [
    {
     "name": "stdout",
     "output_type": "stream",
     "text": [
      "Ho 3 pere\n",
      "Esempio finito.\n"
     ]
    }
   ],
   "source": [
    "# Importo la libreria random \n",
    "# Servirà per generare numeri casuali\n",
    "import random as rd\n",
    "\n",
    "pere = 0\n",
    "\n",
    "# Genero un numero casuale tra 0 e 10\n",
    "Pere_comprate = rd.randint(0, 10) \n",
    "Pere_totali = pere + Pere_comprate\n",
    "\n",
    "if Pere_totali > 0:\n",
    "    print(\"Ho\", Pere_totali, \"pere\")\n",
    "else:\n",
    "    print(\"Non ho nessuna pera.\")\n",
    "\n",
    "print(\"Esempio finito.\")"
   ]
  },
  {
   "cell_type": "markdown",
   "metadata": {},
   "source": [
    "In questo piccolo script appena letto è possibile notare già alcuni aspetti della sintassi di Python e della sua semantica (ovvero come Python lavora).<br>\n",
    "Partiamo dalla prima linea di codice:"
   ]
  },
  {
   "cell_type": "code",
   "execution_count": 3,
   "metadata": {},
   "outputs": [],
   "source": [
    "import random as rd"
   ]
  },
  {
   "cell_type": "markdown",
   "metadata": {},
   "source": [
    "La funzione **import** serve ad importare una libreria in Python, e come vedremo ci sono molte librerie che possono essere molto utili per svolgere le nostre analisi. <br>\n",
    "Insieme ad *import* abbiamo usato **as** che ci ha permesso di denominare la libreria con una parola più breve (rd). "
   ]
  },
  {
   "cell_type": "markdown",
   "metadata": {},
   "source": [
    "Successivamente abbiamo identificato una variabile e le abbiamo assegnato un valore:"
   ]
  },
  {
   "cell_type": "code",
   "execution_count": 4,
   "metadata": {},
   "outputs": [],
   "source": [
    "pere = 0"
   ]
  },
  {
   "cell_type": "markdown",
   "metadata": {},
   "source": [
    "Come possiamo notare non è stato necessario definire prima la tipologia di variabile, Python non ha bisogno di sapere in anticipo quale sarà la tipologia di variabile che stiamo definendo."
   ]
  },
  {
   "cell_type": "code",
   "execution_count": 5,
   "metadata": {},
   "outputs": [],
   "source": [
    "# Genero un numero casuale tra 0 e 10\n",
    "Pere_comprate = rd.randint(0, 10) \n",
    "Pere_totali = pere + Pere_comprate"
   ]
  },
  {
   "cell_type": "markdown",
   "metadata": {},
   "source": [
    "In Python i commenti vengono inseriti utilizzando il simbolo **#** <br>\n",
    "Nel codice sopra possiamo notare come è stata richiamata una funzione che fa parte della libreria \"random\", definita inizialmente con l'acronimo \"rd\"; la funzione usata in questo caso è **randint** che serve a generare un numero intero casuale nell'intervallo definito dagli input assegnati alla funzione."
   ]
  },
  {
   "cell_type": "code",
   "execution_count": 7,
   "metadata": {},
   "outputs": [
    {
     "name": "stdout",
     "output_type": "stream",
     "text": [
      "Ho 6 pere\n",
      "Esempio finito.\n"
     ]
    }
   ],
   "source": [
    "if Pere_totali > 0:\n",
    "    print(\"Ho\", Pere_totali, \"pere\")\n",
    "else:\n",
    "    print(\"Non ho nessuna pera.\")\n",
    "\n",
    "print(\"Esempio finito.\")"
   ]
  },
  {
   "cell_type": "markdown",
   "metadata": {},
   "source": [
    "I due punti \" **:** \" alla fine della linea dell'if indicano che inizia un \"nuovo blocco di codice\", perciò le linee di codice appartenenti a questo blocco devono essere indentate (ovvero iniziare dopo 4 spazi). <br>\n",
    "L'ultima linea di codice \" *print(\"Esempio finito.\")* \" sarà fuori dall'if poichè non è indentato."
   ]
  },
  {
   "cell_type": "markdown",
   "metadata": {},
   "source": [
    "**Print** è una funzione preimpostata di Python che mostra a schermo ciò che si inserisce in input nella funzione. <br>\n",
    "Le funzioni di Python vengono chiamate inserendo tra parentesi gli input dopo il nome della funzione."
   ]
  },
  {
   "cell_type": "markdown",
   "metadata": {},
   "source": [
    "Per conoscere l'effettiva tipologia delle variabili che usiamo in Python possiamo usare la funzione **type**:"
   ]
  },
  {
   "cell_type": "code",
   "execution_count": 8,
   "metadata": {},
   "outputs": [
    {
     "data": {
      "text/plain": [
       "int"
      ]
     },
     "execution_count": 8,
     "metadata": {},
     "output_type": "execute_result"
    }
   ],
   "source": [
    "type(0)"
   ]
  },
  {
   "cell_type": "code",
   "execution_count": 9,
   "metadata": {},
   "outputs": [
    {
     "data": {
      "text/plain": [
       "float"
      ]
     },
     "execution_count": 9,
     "metadata": {},
     "output_type": "execute_result"
    }
   ],
   "source": [
    "type(2.5)"
   ]
  },
  {
   "cell_type": "markdown",
   "metadata": {},
   "source": [
    "Di seguito mostriamo le operazioni aritmetiche che possono essere fatte in Python:"
   ]
  },
  {
   "cell_type": "markdown",
   "metadata": {},
   "source": [
    "<img src=\"operators in Python.jpg\">"
   ]
  },
  {
   "cell_type": "markdown",
   "metadata": {},
   "source": [
    "Altre funzioni preimpostate in Python che possono essere utili sono:"
   ]
  },
  {
   "cell_type": "code",
   "execution_count": 10,
   "metadata": {},
   "outputs": [
    {
     "name": "stdout",
     "output_type": "stream",
     "text": [
      "Min: 1\n",
      "Max: 3\n",
      "Absolute Value: 32\n"
     ]
    }
   ],
   "source": [
    "print(\"Min:\", min(1, 2, 3))\n",
    "print(\"Max:\", max(1, 2, 3))\n",
    "print(\"Absolute Value:\", abs(-32))"
   ]
  },
  {
   "cell_type": "markdown",
   "metadata": {},
   "source": [
    "<a id='section2'></a>\n",
    "## 2) Le funzioni"
   ]
  },
  {
   "cell_type": "markdown",
   "metadata": {},
   "source": [
    "Una delle funzioni più utili è **help()**, infatti grazie a questa funzione è possibile capire qualsiasi altra funzione che si può usare in Python."
   ]
  },
  {
   "cell_type": "code",
   "execution_count": 11,
   "metadata": {},
   "outputs": [
    {
     "name": "stdout",
     "output_type": "stream",
     "text": [
      "Help on built-in function abs in module builtins:\n",
      "\n",
      "abs(x, /)\n",
      "    Return the absolute value of the argument.\n",
      "\n"
     ]
    }
   ],
   "source": [
    "help(abs)"
   ]
  },
  {
   "cell_type": "markdown",
   "metadata": {},
   "source": [
    "La funzione help() mostra: <br>\n",
    "- L'intestazione della funzione, indicando quanti/quali argomenti prende in input la funzione;\n",
    "- Una breve descrizione di ciò che fa la funzione. <br>"
   ]
  },
  {
   "cell_type": "code",
   "execution_count": 12,
   "metadata": {},
   "outputs": [
    {
     "name": "stdout",
     "output_type": "stream",
     "text": [
      "Help on built-in function print in module builtins:\n",
      "\n",
      "print(...)\n",
      "    print(value, ..., sep=' ', end='\\n', file=sys.stdout, flush=False)\n",
      "    \n",
      "    Prints the values to a stream, or to sys.stdout by default.\n",
      "    Optional keyword arguments:\n",
      "    file:  a file-like object (stream); defaults to the current sys.stdout.\n",
      "    sep:   string inserted between values, default a space.\n",
      "    end:   string appended after the last value, default a newline.\n",
      "    flush: whether to forcibly flush the stream.\n",
      "\n"
     ]
    }
   ],
   "source": [
    "help(print)"
   ]
  },
  {
   "cell_type": "markdown",
   "metadata": {},
   "source": [
    "Ovviamente in Python è possibile definire funzioni personalizzate oltreché usare le funzioni già preimpostate, ad esempio:"
   ]
  },
  {
   "cell_type": "code",
   "execution_count": 13,
   "metadata": {},
   "outputs": [],
   "source": [
    "def min_delta(a, b, c):\n",
    "    delta_1 = abs(a-b)\n",
    "    delta_2 = abs(b-c)\n",
    "    delta_3 = abs(a-c)\n",
    "    return min(delta_1, delta_2, delta_3)\n"
   ]
  },
  {
   "cell_type": "markdown",
   "metadata": {},
   "source": [
    "Nel codice sopra abbiamo creato una funzione che prende in input tre argomenti: a, b, c. <br>\n",
    "Le funzioni iniziano sempre con la parola chiave **def**, il codice associato alla funzione è il blocco di codice indentato ed inserito dopo i \"**:**\". <br>\n",
    "**return** è un'altra parola chiave associata alla funzione e determina l'uscita immediata dalla funzione, passando in output il valore inserito a destra della parola chiave stessa.\n",
    "<br>\n",
    "<br>\n",
    "Cosa fa la funzione **min_delta**?"
   ]
  },
  {
   "cell_type": "code",
   "execution_count": 14,
   "metadata": {},
   "outputs": [
    {
     "name": "stdout",
     "output_type": "stream",
     "text": [
      "9\n",
      "0\n",
      "2\n"
     ]
    }
   ],
   "source": [
    "print(min_delta(1, 10, 100))\n",
    "print(min_delta(1, 10, 10))\n",
    "print(min_delta(2, 4, 8))"
   ]
  },
  {
   "cell_type": "markdown",
   "metadata": {},
   "source": [
    "Proviamo ad usare la funzione **help** per la nostra funzione personalizzata \"min_delta\":"
   ]
  },
  {
   "cell_type": "code",
   "execution_count": 15,
   "metadata": {},
   "outputs": [
    {
     "name": "stdout",
     "output_type": "stream",
     "text": [
      "Help on function min_delta in module __main__:\n",
      "\n",
      "min_delta(a, b, c)\n",
      "\n"
     ]
    }
   ],
   "source": [
    "help(min_delta)"
   ]
  },
  {
   "cell_type": "markdown",
   "metadata": {},
   "source": [
    "Possiamo associare al codice che facciamo una descrizione in modo da poterla leggere quando usiamo la funzione pre-impostata di Python, help()."
   ]
  },
  {
   "cell_type": "code",
   "execution_count": 16,
   "metadata": {},
   "outputs": [],
   "source": [
    "def min_delta(a, b, c):\n",
    "    \"\"\" La funzione determina la più piccola differenza tra due numeri, \n",
    "    utilizzando a, b e c.\n",
    "    \n",
    "    >>> min_delta(1, 5, -5)\n",
    "    4\n",
    "    \"\"\"\n",
    "    \n",
    "    delta_1 = abs(a-b)\n",
    "    delta_2 = abs(b-c)\n",
    "    delta_3 = abs(a-c)\n",
    "    return min(delta_1, delta_2, delta_3)\n"
   ]
  },
  {
   "cell_type": "code",
   "execution_count": 17,
   "metadata": {},
   "outputs": [
    {
     "name": "stdout",
     "output_type": "stream",
     "text": [
      "Help on function min_delta in module __main__:\n",
      "\n",
      "min_delta(a, b, c)\n",
      "    La funzione determina la più piccola differenza tra due numeri, \n",
      "    utilizzando a, b e c.\n",
      "    \n",
      "    >>> min_delta(1, 5, -5)\n",
      "    4\n",
      "\n"
     ]
    }
   ],
   "source": [
    "help(min_delta)"
   ]
  },
  {
   "cell_type": "markdown",
   "metadata": {},
   "source": [
    "Se torniamo ad osservare l'help della funzione di print possiamo osservare che ci sono dei parametri opzionali nella funzione, come il parametro *sep*:"
   ]
  },
  {
   "cell_type": "code",
   "execution_count": 18,
   "metadata": {},
   "outputs": [
    {
     "name": "stdout",
     "output_type": "stream",
     "text": [
      "Help on built-in function print in module builtins:\n",
      "\n",
      "print(...)\n",
      "    print(value, ..., sep=' ', end='\\n', file=sys.stdout, flush=False)\n",
      "    \n",
      "    Prints the values to a stream, or to sys.stdout by default.\n",
      "    Optional keyword arguments:\n",
      "    file:  a file-like object (stream); defaults to the current sys.stdout.\n",
      "    sep:   string inserted between values, default a space.\n",
      "    end:   string appended after the last value, default a newline.\n",
      "    flush: whether to forcibly flush the stream.\n",
      "\n"
     ]
    }
   ],
   "source": [
    "help(print)"
   ]
  },
  {
   "cell_type": "code",
   "execution_count": 19,
   "metadata": {},
   "outputs": [
    {
     "name": "stdout",
     "output_type": "stream",
     "text": [
      "1 < 2 < 3\n"
     ]
    }
   ],
   "source": [
    "print(1, 2, 3, sep= ' < ')"
   ]
  },
  {
   "cell_type": "code",
   "execution_count": 20,
   "metadata": {},
   "outputs": [
    {
     "name": "stdout",
     "output_type": "stream",
     "text": [
      "1\n",
      "2\n",
      "3\n"
     ]
    }
   ],
   "source": [
    "print(1, 2, 3, sep='\\n')"
   ]
  },
  {
   "cell_type": "code",
   "execution_count": 21,
   "metadata": {},
   "outputs": [
    {
     "name": "stdout",
     "output_type": "stream",
     "text": [
      "1 2 3\n"
     ]
    }
   ],
   "source": [
    "print(1, 2, 3)"
   ]
  },
  {
   "cell_type": "markdown",
   "metadata": {},
   "source": [
    "è possibile inserire dei parametri opzionali nelle funzioni che costruiamo, nel seguente modo:"
   ]
  },
  {
   "cell_type": "code",
   "execution_count": 22,
   "metadata": {},
   "outputs": [
    {
     "name": "stdout",
     "output_type": "stream",
     "text": [
      "Hello, Robot\n",
      "Hello, Salvo\n",
      "Hello, Andrea\n"
     ]
    }
   ],
   "source": [
    "def benvenuto(chi=\"Robot\"):\n",
    "    print(\"Hello,\", chi)\n",
    "    \n",
    "benvenuto()\n",
    "benvenuto(chi=\"Salvo\")\n",
    "benvenuto(\"Andrea\")"
   ]
  },
  {
   "cell_type": "code",
   "execution_count": 23,
   "metadata": {},
   "outputs": [
    {
     "name": "stdout",
     "output_type": "stream",
     "text": [
      "Anche le funzioni sono degli oggetti, infatti sono: <class 'function'>\n"
     ]
    }
   ],
   "source": [
    "print(\"Anche le funzioni sono degli oggetti, infatti sono:\", type(benvenuto))"
   ]
  },
  {
   "cell_type": "markdown",
   "metadata": {},
   "source": [
    "Osserviamo il seguente utilizzo dei parametri opzionali:"
   ]
  },
  {
   "cell_type": "code",
   "execution_count": 24,
   "metadata": {},
   "outputs": [
    {
     "name": "stdout",
     "output_type": "stream",
     "text": [
      "Qual è il numero più grande?\n",
      "100\n",
      "Quale numero ha il resto maggiore se diviso per 5?\n",
      "14\n"
     ]
    }
   ],
   "source": [
    "def mod_5(x):\n",
    "    \"\"\"Restituisce il resto di x dopo averlo diviso per 5\"\"\"\n",
    "    return x % 5\n",
    "\n",
    "print(\n",
    "    'Qual è il numero più grande?',\n",
    "    max(100, 51, 14),\n",
    "    'Quale numero ha il resto maggiore se diviso per 5?',\n",
    "    max(100, 51, 14, key=mod_5),\n",
    "    sep='\\n',\n",
    ")"
   ]
  },
  {
   "cell_type": "markdown",
   "metadata": {},
   "source": [
    "Se vogliamo creare funzioni molto veloci da usare in una piccola parte di codice la seguente formulazione può essere utile:"
   ]
  },
  {
   "cell_type": "code",
   "execution_count": 54,
   "metadata": {},
   "outputs": [
    {
     "name": "stdout",
     "output_type": "stream",
     "text": [
      "101 mod 5 = 1\n"
     ]
    }
   ],
   "source": [
    "mod_5 = lambda x: x % 5\n",
    "\n",
    "# Con la parola chiave lambda non è necessario inserire la parola return\n",
    "\n",
    "print('101 mod 5 =', mod_5(101))"
   ]
  },
  {
   "cell_type": "code",
   "execution_count": 56,
   "metadata": {},
   "outputs": [
    {
     "name": "stdout",
     "output_type": "stream",
     "text": [
      "La differenza in termini assoluti tra 5 e 7 è 2\n"
     ]
    }
   ],
   "source": [
    "abs_diff = lambda a, b: abs(a-b)\n",
    "print(\"La differenza in termini assoluti tra 5 e 7 è\", abs_diff(5, 7))"
   ]
  },
  {
   "cell_type": "code",
   "execution_count": 58,
   "metadata": {},
   "outputs": [
    {
     "name": "stdout",
     "output_type": "stream",
     "text": [
      "Il nome più lungo è: Salvatore\n"
     ]
    }
   ],
   "source": [
    "# Len: restituisce la lunghezza di una sequenza (di una lista o di una stringa)\n",
    "names = ['Salvatore', 'Andrea', 'Leonardo', 'Pietro']\n",
    "print(\"Il nome più lungo è:\", max(names, key=lambda name: len(name))) "
   ]
  },
  {
   "cell_type": "markdown",
   "metadata": {},
   "source": [
    "<a id='section3'></a>\n",
    "## 3) Booleans & Condizioni"
   ]
  },
  {
   "cell_type": "markdown",
   "metadata": {},
   "source": [
    "I principali operatori che danno come risposta True/False sono i seguenti:"
   ]
  },
  {
   "cell_type": "markdown",
   "metadata": {},
   "source": [
    "<img src=\"comparison_operations.jpg\">"
   ]
  },
  {
   "cell_type": "code",
   "execution_count": 73,
   "metadata": {},
   "outputs": [
    {
     "name": "stdout",
     "output_type": "stream",
     "text": [
      "Chi ha 19 anni può votare i membri del Senato: False\n",
      "Chi ha 27 anni può votare i membri del Senato: True\n"
     ]
    }
   ],
   "source": [
    "def votare_senato(eta):\n",
    "    \"\"\" La persona può votare i membri del Senato in Italia?\"\"\"\n",
    "    # La Costituzione italiana indica che possono votare i membri del Senato\n",
    "    # chi ha compiuto almeno 25 anni d'età.\n",
    "    return eta >= 25\n",
    "\n",
    "print(\"Chi ha 19 anni può votare i membri del Senato:\", votare_senato(19))\n",
    "print(\"Chi ha 27 anni può votare i membri del Senato:\", votare_senato(27))\n",
    "    "
   ]
  },
  {
   "cell_type": "markdown",
   "metadata": {},
   "source": [
    "È necessario fare attenzione alle tipologie di dati che si mettono a confronto, infatti:"
   ]
  },
  {
   "cell_type": "code",
   "execution_count": 74,
   "metadata": {},
   "outputs": [
    {
     "data": {
      "text/plain": [
       "True"
      ]
     },
     "execution_count": 74,
     "metadata": {},
     "output_type": "execute_result"
    }
   ],
   "source": [
    "3.0 == 3"
   ]
  },
  {
   "cell_type": "code",
   "execution_count": 75,
   "metadata": {},
   "outputs": [
    {
     "data": {
      "text/plain": [
       "False"
      ]
     },
     "execution_count": 75,
     "metadata": {},
     "output_type": "execute_result"
    }
   ],
   "source": [
    "'3' == 3"
   ]
  },
  {
   "cell_type": "markdown",
   "metadata": {},
   "source": [
    "Come altri linguaggi di programmazione, Python permette di combinare i valori booleani utilizzando i concetti di \"*and*\", \"*or*\" e \"*not*\". <br>\n",
    "Qual è il valore della prossima espressione?"
   ]
  },
  {
   "cell_type": "code",
   "execution_count": 81,
   "metadata": {},
   "outputs": [],
   "source": [
    "True or True and False;"
   ]
  },
  {
   "cell_type": "markdown",
   "metadata": {},
   "source": [
    "Python segue delle regole ben precise quando deve valutare espressioni come quelle scritte sopra. L'operatore **and** ha la precedenza sull'operatore **or**. Perciò seguendo le logiche di Python possiamo dividere l'espressione sopra nel seguente modo: <br>\n",
    "- 1. True and False --> False\n",
    "- 2. True or False --> True"
   ]
  },
  {
   "cell_type": "code",
   "execution_count": 82,
   "metadata": {},
   "outputs": [
    {
     "name": "stdout",
     "output_type": "stream",
     "text": [
      "False\n",
      "True\n"
     ]
    }
   ],
   "source": [
    "print(True and False)\n",
    "print(True or print(True and False))"
   ]
  },
  {
   "cell_type": "code",
   "execution_count": 83,
   "metadata": {},
   "outputs": [
    {
     "data": {
      "text/plain": [
       "True"
      ]
     },
     "execution_count": 83,
     "metadata": {},
     "output_type": "execute_result"
    }
   ],
   "source": [
    "True or True and False"
   ]
  },
  {
   "cell_type": "markdown",
   "metadata": {},
   "source": [
    "Per maggiori dettagli sulle precedenze degli operatori utilizzati in Python è possibile cliccare [qui](https://docs.python.org/3/reference/expressions.html#operator-precedence). <br>\n",
    "Una prassi che può aiutare il lettore a capire quale espressione eseguire prima può essere inserire le parentesi all'interno dell'espressione: <br>\n",
    "*True or (True and False)* <br>\n",
    "<br>\n",
    "Osserviamo ora la seguente espressione cercando di capirne il senso:"
   ]
  },
  {
   "cell_type": "markdown",
   "metadata": {},
   "source": [
    "pronto_per_la_pioggia = Ombrello **or** livello_pioggia < 5 **and** Cappuccio \n",
    "**or not** livello_pioggia > 0 **and** giorno_lavorativo"
   ]
  },
  {
   "cell_type": "markdown",
   "metadata": {},
   "source": [
    "Nell'espressione scritta sopra stiamo provando ad affermare che: <br>\n",
    "Sono salvo dal tempo se: <br>\n",
    "- Ho un ombrello...\n",
    "- oppure, se la pioggia non è forte e ho il cappuccio..\n",
    "- oppure, piove ed è un giorno lavorativo.\n",
    "<br>\n",
    "<br>\n",
    "L'espressione scritta sopra, oltre ad essere difficile da leggere ha anche un bug."
   ]
  },
  {
   "cell_type": "markdown",
   "metadata": {},
   "source": [
    "pronto_per_la_pioggia = (<br>\n",
    "    Ombrello <br>\n",
    "    **or** ((livello_pioggia < 5) **and** Cappuccio) <br>\n",
    "    **or** (**not** (livello_pioggia > 0 **and** giorno_lavorativo))<br>\n",
    "    )"
   ]
  },
  {
   "cell_type": "markdown",
   "metadata": {},
   "source": [
    "I booleans tornano molto utili quando vengono usati con la sintassi condizionale, ovvero quando si usano le seguenti parole chiave **if**, **elif** e **else**."
   ]
  },
  {
   "cell_type": "code",
   "execution_count": 89,
   "metadata": {},
   "outputs": [
    {
     "name": "stdout",
     "output_type": "stream",
     "text": [
      "0 è zero\n",
      "-15 è negativo\n"
     ]
    }
   ],
   "source": [
    "def what(x):\n",
    "    if x == 0:\n",
    "        print(x, \"è zero\")\n",
    "    elif x > 0:\n",
    "        print(x, \"è positivo\")\n",
    "    elif x < 0:\n",
    "        print(x, \"è negativo\")\n",
    "    else:\n",
    "        print(x, \"è qualcosa che non ho mai visto..\")\n",
    "\n",
    "what(0)\n",
    "what(-15)"
   ]
  },
  {
   "cell_type": "markdown",
   "metadata": {},
   "source": [
    "In Python è presente la funzione **bool()** che trasforma un elemento in una variabile booleana. <br>\n",
    "Ad esempio:"
   ]
  },
  {
   "cell_type": "code",
   "execution_count": 90,
   "metadata": {},
   "outputs": [
    {
     "name": "stdout",
     "output_type": "stream",
     "text": [
      "True\n",
      "False\n",
      "True\n",
      "False\n"
     ]
    }
   ],
   "source": [
    "print(bool(1)) # Tutti i numeri sono considerati veri, a parte 0\n",
    "print(bool(0))\n",
    "print(bool(\"ahieahie\")) # Tutte le stringhe sono considerate vere, a parte \n",
    "# le stringhe vuote \"\"\n",
    "print(bool(\"\"))"
   ]
  },
  {
   "cell_type": "markdown",
   "metadata": {},
   "source": [
    "Osserviamo il seguente script:"
   ]
  },
  {
   "cell_type": "code",
   "execution_count": 92,
   "metadata": {},
   "outputs": [
    {
     "name": "stdout",
     "output_type": "stream",
     "text": [
      "Hai passato l'esame, il tuo punteggio è : 80\n"
     ]
    }
   ],
   "source": [
    "def risultato_quiz(voto):\n",
    "    if voto < 50:\n",
    "        risultato = 'Non hai passato'\n",
    "    else:\n",
    "        risultato = 'Hai passato'\n",
    "    print(risultato, \"l'esame, il tuo punteggio è :\", voto)\n",
    "    \n",
    "risultato_quiz(80)"
   ]
  },
  {
   "cell_type": "markdown",
   "metadata": {},
   "source": [
    "In questo caso è possibile replicare la funzione scritta sopra, nel seguente modo:"
   ]
  },
  {
   "cell_type": "code",
   "execution_count": 93,
   "metadata": {},
   "outputs": [
    {
     "name": "stdout",
     "output_type": "stream",
     "text": [
      "Hai passato l'esame, il tuo punteggio è : 80\n"
     ]
    }
   ],
   "source": [
    "def risultato_quiz(voto):\n",
    "    risultato = 'Non hai passato' if voto < 50 else 'Hai passato'\n",
    "    print(risultato, \"l'esame, il tuo punteggio è :\", voto)\n",
    "    \n",
    "risultato_quiz(80)"
   ]
  },
  {
   "cell_type": "markdown",
   "metadata": {},
   "source": [
    "<a id='section4'></a>\n",
    "## 4) Le liste"
   ]
  },
  {
   "cell_type": "markdown",
   "metadata": {},
   "source": [
    "Le liste in Python sono una sequenza ordinati di valori e sono definite attraverso valori separati da una virgola e contenuti in parentesi quadre."
   ]
  },
  {
   "cell_type": "code",
   "execution_count": 94,
   "metadata": {
    "collapsed": true
   },
   "outputs": [],
   "source": [
    "Numeri_primi = [1, 2, 3, 5, 7]"
   ]
  },
  {
   "cell_type": "code",
   "execution_count": 95,
   "metadata": {},
   "outputs": [
    {
     "data": {
      "text/plain": [
       "list"
      ]
     },
     "execution_count": 95,
     "metadata": {},
     "output_type": "execute_result"
    }
   ],
   "source": [
    "type(Numeri_primi)"
   ]
  },
  {
   "cell_type": "code",
   "execution_count": 97,
   "metadata": {
    "collapsed": true
   },
   "outputs": [],
   "source": [
    "Pianeti = ['Mercurio', 'Venere', 'Terra', 'Marte',\\\n",
    "           'Giove', 'Saturno', 'Urano', 'Nettuno']"
   ]
  },
  {
   "cell_type": "code",
   "execution_count": 98,
   "metadata": {},
   "outputs": [
    {
     "data": {
      "text/plain": [
       "['Mercurio',\n",
       " 'Venere',\n",
       " 'Terra',\n",
       " 'Marte',\n",
       " 'Giove',\n",
       " 'Saturno',\n",
       " 'Urano',\n",
       " 'Nettuno']"
      ]
     },
     "execution_count": 98,
     "metadata": {},
     "output_type": "execute_result"
    }
   ],
   "source": [
    "Pianeti"
   ]
  },
  {
   "cell_type": "markdown",
   "metadata": {},
   "source": [
    "Una lista può contenere altre liste, ad esempio:"
   ]
  },
  {
   "cell_type": "code",
   "execution_count": 100,
   "metadata": {
    "collapsed": true
   },
   "outputs": [],
   "source": [
    "Carte = [['J', 'Q', 'K'], ['2', '4', '8'], ['6', 'A', 'K']]\n",
    "\n",
    "# Per una lettura migliore è possibile anche scrivere nel seguente modo:\n",
    "Carte = [\n",
    "    ['J', 'Q', 'K'], \n",
    "    ['2', '4', '8'], \n",
    "    ['6', 'A', 'K']\n",
    "]"
   ]
  },
  {
   "cell_type": "markdown",
   "metadata": {},
   "source": [
    "Una lista può contenere un mix di elementi di tipo diverso:"
   ]
  },
  {
   "cell_type": "code",
   "execution_count": 103,
   "metadata": {},
   "outputs": [],
   "source": [
    "Elementi_preferiti = [27, 'Moto']"
   ]
  },
  {
   "cell_type": "markdown",
   "metadata": {},
   "source": [
    "È possibile accedere agli elementi di una lista di Python attraverso l'indicizzazione tramite parentesi quadre. <br>\n",
    "Ad esempio, qual è il pianeta più vicino al sole?"
   ]
  },
  {
   "cell_type": "code",
   "execution_count": 106,
   "metadata": {},
   "outputs": [
    {
     "data": {
      "text/plain": [
       "'Mercurio'"
      ]
     },
     "execution_count": 106,
     "metadata": {},
     "output_type": "execute_result"
    }
   ],
   "source": [
    "Pianeti[0]"
   ]
  },
  {
   "cell_type": "markdown",
   "metadata": {},
   "source": [
    "Qual è il pianeta più lontano dal sole? <br>\n",
    "*Gli elementi alla fine di una lista possono essere identificati attraverso i numeri negativi, partendo da -1.*"
   ]
  },
  {
   "cell_type": "code",
   "execution_count": 107,
   "metadata": {},
   "outputs": [
    {
     "data": {
      "text/plain": [
       "'Nettuno'"
      ]
     },
     "execution_count": 107,
     "metadata": {},
     "output_type": "execute_result"
    }
   ],
   "source": [
    "Pianeti[-1]"
   ]
  },
  {
   "cell_type": "code",
   "execution_count": 108,
   "metadata": {},
   "outputs": [
    {
     "data": {
      "text/plain": [
       "'Urano'"
      ]
     },
     "execution_count": 108,
     "metadata": {},
     "output_type": "execute_result"
    }
   ],
   "source": [
    "Pianeti[-2]"
   ]
  },
  {
   "cell_type": "markdown",
   "metadata": {},
   "source": [
    "Quali sono i primi tre pianeti più vicini al sole? <br>\n",
    "*Rispondiamo a questa domanda utilizzando lo **slicing***"
   ]
  },
  {
   "cell_type": "code",
   "execution_count": 109,
   "metadata": {},
   "outputs": [
    {
     "data": {
      "text/plain": [
       "['Mercurio', 'Venere', 'Terra']"
      ]
     },
     "execution_count": 109,
     "metadata": {},
     "output_type": "execute_result"
    }
   ],
   "source": [
    "Pianeti[0:3]"
   ]
  },
  {
   "cell_type": "markdown",
   "metadata": {},
   "source": [
    "La notazione vista sopra \"[0:3]\" ci dice di partire da 0 e continuare fino all'indice **3, escluso**."
   ]
  },
  {
   "cell_type": "markdown",
   "metadata": {},
   "source": [
    "Non è necessario indicare l'inizio e la fine dell'indicizzazione qualora si volesse partire/finire con il primo/ultimo elemento di una lista."
   ]
  },
  {
   "cell_type": "code",
   "execution_count": 110,
   "metadata": {},
   "outputs": [
    {
     "data": {
      "text/plain": [
       "['Mercurio', 'Venere', 'Terra']"
      ]
     },
     "execution_count": 110,
     "metadata": {},
     "output_type": "execute_result"
    }
   ],
   "source": [
    "Pianeti[:3]"
   ]
  },
  {
   "cell_type": "code",
   "execution_count": 111,
   "metadata": {},
   "outputs": [
    {
     "data": {
      "text/plain": [
       "['Marte', 'Giove', 'Saturno', 'Urano', 'Nettuno']"
      ]
     },
     "execution_count": 111,
     "metadata": {},
     "output_type": "execute_result"
    }
   ],
   "source": [
    "Pianeti[3:] # Dal terzo pianeta in poi"
   ]
  },
  {
   "cell_type": "code",
   "execution_count": 112,
   "metadata": {},
   "outputs": [
    {
     "data": {
      "text/plain": [
       "['Saturno', 'Urano', 'Nettuno']"
      ]
     },
     "execution_count": 112,
     "metadata": {},
     "output_type": "execute_result"
    }
   ],
   "source": [
    "Pianeti[-3:] # Gli ultimi 3 pianeti"
   ]
  },
  {
   "cell_type": "code",
   "execution_count": 114,
   "metadata": {},
   "outputs": [
    {
     "data": {
      "text/plain": [
       "['Mercurio',\n",
       " 'Venere',\n",
       " 'Terra',\n",
       " 'Pianeta X',\n",
       " 'Giove',\n",
       " 'Saturno',\n",
       " 'Urano',\n",
       " 'Nettuno']"
      ]
     },
     "execution_count": 114,
     "metadata": {},
     "output_type": "execute_result"
    }
   ],
   "source": [
    "Pianeti[3] = \"Pianeta X\"\n",
    "Pianeti"
   ]
  },
  {
   "cell_type": "code",
   "execution_count": 116,
   "metadata": {},
   "outputs": [
    {
     "data": {
      "text/plain": [
       "['A', 'B', 'C', 'Pianeta X', 'Giove', 'Saturno', 'Urano', 'Nettuno']"
      ]
     },
     "execution_count": 116,
     "metadata": {},
     "output_type": "execute_result"
    }
   ],
   "source": [
    "Pianeti[:3] = ['A', 'B', 'C']\n",
    "Pianeti"
   ]
  },
  {
   "cell_type": "markdown",
   "metadata": {},
   "source": [
    "Python ha differenti funzioni che possono essere usate con le liste: <br>\n",
    "- **len**: permette di calcolare la lunghezza di una lista; <br>\n",
    "- **sorted**: dà come risultato la lista ordinata; <br>\n",
    "- **sum**: somma gli elementi di una lista."
   ]
  },
  {
   "cell_type": "code",
   "execution_count": 117,
   "metadata": {},
   "outputs": [
    {
     "data": {
      "text/plain": [
       "8"
      ]
     },
     "execution_count": 117,
     "metadata": {},
     "output_type": "execute_result"
    }
   ],
   "source": [
    "len(Pianeti)"
   ]
  },
  {
   "cell_type": "code",
   "execution_count": 118,
   "metadata": {},
   "outputs": [
    {
     "data": {
      "text/plain": [
       "['Giove',\n",
       " 'Marte',\n",
       " 'Mercurio',\n",
       " 'Nettuno',\n",
       " 'Saturno',\n",
       " 'Terra',\n",
       " 'Urano',\n",
       " 'Venere']"
      ]
     },
     "execution_count": 118,
     "metadata": {},
     "output_type": "execute_result"
    }
   ],
   "source": [
    "Pianeti = ['Mercurio', 'Venere', 'Terra', 'Marte',\\\n",
    "           'Giove', 'Saturno', 'Urano', 'Nettuno']\n",
    "sorted(Pianeti)"
   ]
  },
  {
   "cell_type": "code",
   "execution_count": 119,
   "metadata": {},
   "outputs": [
    {
     "data": {
      "text/plain": [
       "18"
      ]
     },
     "execution_count": 119,
     "metadata": {},
     "output_type": "execute_result"
    }
   ],
   "source": [
    "sum(Numeri_primi)"
   ]
  },
  {
   "cell_type": "markdown",
   "metadata": {},
   "source": [
    "Gli oggetti in Python portano con se degli elementi: <br>\n",
    "- I **metodi**: funzioni che possono essere eseguite partendo da un oggetto;<br>\n",
    "- Gli **attributi**: elementi che sono collegati ad un oggetto ma non sono funzioni."
   ]
  },
  {
   "cell_type": "markdown",
   "metadata": {},
   "source": [
    "Un esempio di **metodo** può essere **bit_length**; ovvero un metodo che è associato ai numeri e indica i bit usati da un numero:"
   ]
  },
  {
   "cell_type": "code",
   "execution_count": 121,
   "metadata": {},
   "outputs": [
    {
     "data": {
      "text/plain": [
       "4"
      ]
     },
     "execution_count": 121,
     "metadata": {},
     "output_type": "execute_result"
    }
   ],
   "source": [
    "x = 12\n",
    "x.bit_length()"
   ]
  },
  {
   "cell_type": "markdown",
   "metadata": {},
   "source": [
    "Possiamo usare l'help di Python anche per capire cosa fa un metodo di un oggetto di Python."
   ]
  },
  {
   "cell_type": "code",
   "execution_count": 122,
   "metadata": {},
   "outputs": [
    {
     "name": "stdout",
     "output_type": "stream",
     "text": [
      "Help on built-in function bit_length:\n",
      "\n",
      "bit_length(...) method of builtins.int instance\n",
      "    int.bit_length() -> int\n",
      "    \n",
      "    Number of bits necessary to represent self in binary.\n",
      "    >>> bin(37)\n",
      "    '0b100101'\n",
      "    >>> (37).bit_length()\n",
      "    6\n",
      "\n"
     ]
    }
   ],
   "source": [
    "help(x.bit_length)"
   ]
  },
  {
   "cell_type": "markdown",
   "metadata": {},
   "source": [
    "I **metodi ** più utilizzati quando si usano le liste di Python, sono i seguenti: <br>\n",
    "- **.append** : permette di modificare una lista aggiungendo un elemento in fondo alla lista; <br>\n",
    "- **.pop** : rimuove e stampa l'ultimo elemento di una lista; <br>\n",
    "- **.index** : Indica l'indice in cui si trova un determinato elemento all'interno della lista. <br>\n",
    "Di seguito ci sono un pò di esempi. <br>\n",
    "<br>\n",
    "Per osservare tutti i metodi associati ad un oggetto è possibile fare: **help(*nome_oggetto*)**"
   ]
  },
  {
   "cell_type": "code",
   "execution_count": 123,
   "metadata": {
    "collapsed": true
   },
   "outputs": [],
   "source": [
    "Pianeti.append('Plutone')"
   ]
  },
  {
   "cell_type": "code",
   "execution_count": 124,
   "metadata": {},
   "outputs": [
    {
     "data": {
      "text/plain": [
       "['Mercurio',\n",
       " 'Venere',\n",
       " 'Terra',\n",
       " 'Marte',\n",
       " 'Giove',\n",
       " 'Saturno',\n",
       " 'Urano',\n",
       " 'Nettuno',\n",
       " 'Plutone']"
      ]
     },
     "execution_count": 124,
     "metadata": {},
     "output_type": "execute_result"
    }
   ],
   "source": [
    "Pianeti"
   ]
  },
  {
   "cell_type": "code",
   "execution_count": 125,
   "metadata": {},
   "outputs": [
    {
     "name": "stdout",
     "output_type": "stream",
     "text": [
      "Help on built-in function append:\n",
      "\n",
      "append(...) method of builtins.list instance\n",
      "    L.append(object) -> None -- append object to end\n",
      "\n"
     ]
    }
   ],
   "source": [
    "help(Pianeti.append)"
   ]
  },
  {
   "cell_type": "code",
   "execution_count": 126,
   "metadata": {},
   "outputs": [
    {
     "data": {
      "text/plain": [
       "'Plutone'"
      ]
     },
     "execution_count": 126,
     "metadata": {},
     "output_type": "execute_result"
    }
   ],
   "source": [
    "Pianeti.pop()"
   ]
  },
  {
   "cell_type": "code",
   "execution_count": 127,
   "metadata": {},
   "outputs": [
    {
     "data": {
      "text/plain": [
       "['Mercurio',\n",
       " 'Venere',\n",
       " 'Terra',\n",
       " 'Marte',\n",
       " 'Giove',\n",
       " 'Saturno',\n",
       " 'Urano',\n",
       " 'Nettuno']"
      ]
     },
     "execution_count": 127,
     "metadata": {},
     "output_type": "execute_result"
    }
   ],
   "source": [
    "Pianeti"
   ]
  },
  {
   "cell_type": "code",
   "execution_count": 128,
   "metadata": {},
   "outputs": [
    {
     "data": {
      "text/plain": [
       "2"
      ]
     },
     "execution_count": 128,
     "metadata": {},
     "output_type": "execute_result"
    }
   ],
   "source": [
    "Pianeti.index('Terra')"
   ]
  },
  {
   "cell_type": "code",
   "execution_count": 129,
   "metadata": {},
   "outputs": [
    {
     "ename": "ValueError",
     "evalue": "'Plutone' is not in list",
     "output_type": "error",
     "traceback": [
      "\u001b[0;31m---------------------------------------------------------------------------\u001b[0m",
      "\u001b[0;31mValueError\u001b[0m                                Traceback (most recent call last)",
      "\u001b[0;32m<ipython-input-129-91b2829a8925>\u001b[0m in \u001b[0;36m<module>\u001b[0;34m()\u001b[0m\n\u001b[0;32m----> 1\u001b[0;31m \u001b[0mPianeti\u001b[0m\u001b[1;33m.\u001b[0m\u001b[0mindex\u001b[0m\u001b[1;33m(\u001b[0m\u001b[1;34m'Plutone'\u001b[0m\u001b[1;33m)\u001b[0m\u001b[1;33m\u001b[0m\u001b[0m\n\u001b[0m",
      "\u001b[0;31mValueError\u001b[0m: 'Plutone' is not in list"
     ]
    }
   ],
   "source": [
    "Pianeti.index('Plutone')"
   ]
  },
  {
   "cell_type": "code",
   "execution_count": 132,
   "metadata": {},
   "outputs": [
    {
     "data": {
      "text/plain": [
       "True"
      ]
     },
     "execution_count": 132,
     "metadata": {},
     "output_type": "execute_result"
    }
   ],
   "source": [
    "# La Terra è nella lista dei pianeti?\n",
    "\"Terra\" in Pianeti"
   ]
  },
  {
   "cell_type": "code",
   "execution_count": 133,
   "metadata": {},
   "outputs": [
    {
     "data": {
      "text/plain": [
       "False"
      ]
     },
     "execution_count": 133,
     "metadata": {},
     "output_type": "execute_result"
    }
   ],
   "source": [
    "\"Plutone\" in Pianeti"
   ]
  },
  {
   "cell_type": "markdown",
   "metadata": {},
   "source": [
    "Le **Tuple** sono esattamente la stessa cosa delle liste, tuttavia differiscono da quest'ultime per i seguenti punti: <br>\n",
    "- È possibile usare le parentesi tonde per creare le tuple e non per forza le parentesi quadre, come nel caso delle liste; <br>\n",
    "- Le tuple **non** sono modificabili, una volta definite."
   ]
  },
  {
   "cell_type": "code",
   "execution_count": 134,
   "metadata": {},
   "outputs": [
    {
     "data": {
      "text/plain": [
       "(1, 2, 3)"
      ]
     },
     "execution_count": 134,
     "metadata": {},
     "output_type": "execute_result"
    }
   ],
   "source": [
    "t = (1, 2, 3)\n",
    "t"
   ]
  },
  {
   "cell_type": "code",
   "execution_count": 135,
   "metadata": {},
   "outputs": [
    {
     "ename": "TypeError",
     "evalue": "'tuple' object does not support item assignment",
     "output_type": "error",
     "traceback": [
      "\u001b[0;31m---------------------------------------------------------------------------\u001b[0m",
      "\u001b[0;31mTypeError\u001b[0m                                 Traceback (most recent call last)",
      "\u001b[0;32m<ipython-input-135-155b9e8fb284>\u001b[0m in \u001b[0;36m<module>\u001b[0;34m()\u001b[0m\n\u001b[0;32m----> 1\u001b[0;31m \u001b[0mt\u001b[0m\u001b[1;33m[\u001b[0m\u001b[1;36m0\u001b[0m\u001b[1;33m]\u001b[0m \u001b[1;33m=\u001b[0m \u001b[1;36m100\u001b[0m\u001b[1;33m\u001b[0m\u001b[0m\n\u001b[0m",
      "\u001b[0;31mTypeError\u001b[0m: 'tuple' object does not support item assignment"
     ]
    }
   ],
   "source": [
    "t[0] = 100"
   ]
  },
  {
   "cell_type": "code",
   "execution_count": 137,
   "metadata": {},
   "outputs": [
    {
     "name": "stdout",
     "output_type": "stream",
     "text": [
      "0 1\n"
     ]
    }
   ],
   "source": [
    "# Assegnazione reciproca di due variabili in maniera \"Smart\"\n",
    "a = 1\n",
    "b = 0\n",
    "a, b = b, a\n",
    "print(a , b)"
   ]
  },
  {
   "cell_type": "markdown",
   "metadata": {},
   "source": [
    "<a id='section5'></a>\n",
    "## 5) Loops"
   ]
  },
  {
   "cell_type": "code",
   "execution_count": 138,
   "metadata": {},
   "outputs": [
    {
     "name": "stdout",
     "output_type": "stream",
     "text": [
      "Mercurio Venere Terra Marte Giove Saturno Urano Nettuno "
     ]
    }
   ],
   "source": [
    "# Stampo tutti i pianeti sulla stessa linea\n",
    "for Pianeta in Pianeti:\n",
    "    print(Pianeta, end=' ') \n"
   ]
  },
  {
   "cell_type": "markdown",
   "metadata": {},
   "source": [
    "In un loop **for** specifichiamo: <br>\n",
    "- La variabile che vogliamo usare; <br>\n",
    "- La lista su cui vogliamo eseguire il loop <br>\n",
    "<br>E con \"**in**\" colleghiamo la variabile che cambia in ogni ciclo del loop con la lista da cui prenderà il valore la variabile del loop. A destra di \"in\" ci deve essere un oggetto che supporta le iterazioni."
   ]
  },
  {
   "cell_type": "code",
   "execution_count": 140,
   "metadata": {},
   "outputs": [
    {
     "data": {
      "text/plain": [
       "360"
      ]
     },
     "execution_count": 140,
     "metadata": {},
     "output_type": "execute_result"
    }
   ],
   "source": [
    "moltiplicandi = (2, 2, 2, 3, 3, 5)\n",
    "prodotto = 1\n",
    "for moltiplicando in moltiplicandi:\n",
    "    prodotto = prodotto * moltiplicando\n",
    "prodotto"
   ]
  },
  {
   "cell_type": "markdown",
   "metadata": {},
   "source": [
    "È possibile iterare anche gli elementi che sono contenuti in una stringa:"
   ]
  },
  {
   "cell_type": "code",
   "execution_count": 141,
   "metadata": {},
   "outputs": [
    {
     "name": "stdout",
     "output_type": "stream",
     "text": [
      "CIAO"
     ]
    }
   ],
   "source": [
    "s = \"prova a CapIre lA struttura sOtto\"\n",
    "msg = ''\n",
    "# Stampiamo tutte le lettere maiuscole, una alla volta\n",
    "for lettera in s:\n",
    "    if lettera.isupper():\n",
    "        print(lettera, end='')"
   ]
  },
  {
   "cell_type": "markdown",
   "metadata": {},
   "source": [
    "**range()** è una funzione che crea una sequenza di numeri; questa funzione può tornare utile durante la scrittura di loops."
   ]
  },
  {
   "cell_type": "code",
   "execution_count": 145,
   "metadata": {},
   "outputs": [
    {
     "name": "stdout",
     "output_type": "stream",
     "text": [
      "File elaborati: 0\n",
      "File elaborati: 1\n",
      "File elaborati: 2\n",
      "File elaborati: 3\n",
      "File elaborati: 4\n"
     ]
    }
   ],
   "source": [
    "for i in range(5):\n",
    "    print(\"File elaborati:\", i)"
   ]
  },
  {
   "cell_type": "markdown",
   "metadata": {},
   "source": [
    "È possibile assumere che **range(5)** generi una lista di numeri **[0, 1, 2, 3, 4]**; tuttavia in realtà la funzione **range** genere un oggetto *range*, che è diverso dall'oggetto *lista*."
   ]
  },
  {
   "cell_type": "code",
   "execution_count": 146,
   "metadata": {},
   "outputs": [
    {
     "data": {
      "text/plain": [
       "range(0, 5)"
      ]
     },
     "execution_count": 146,
     "metadata": {},
     "output_type": "execute_result"
    }
   ],
   "source": [
    "r = range(5)\n",
    "r"
   ]
  },
  {
   "cell_type": "code",
   "execution_count": 149,
   "metadata": {},
   "outputs": [
    {
     "data": {
      "text/plain": [
       "[0, 1, 2, 3, 4]"
      ]
     },
     "execution_count": 149,
     "metadata": {},
     "output_type": "execute_result"
    }
   ],
   "source": [
    "# Possiamo convertire l'oggetto range \n",
    "# in una lista utilizzando il convertitore list()\n",
    "list(r)"
   ]
  },
  {
   "cell_type": "markdown",
   "metadata": {},
   "source": [
    "Finora abbiamo usato la notazione **for** e **in** per iterare una variabile assegnandole i valori che sono inseriti in una lista (o in una tupla). <br> Supponiamo ora di voler *fare il loop sugli elementi di una lista e contemporaneamente fare il loop sull'indice di una lista.* <br>\n",
    "È possibile fare ciò utilizzando la funzione **enumerate**."
   ]
  },
  {
   "cell_type": "code",
   "execution_count": 152,
   "metadata": {},
   "outputs": [
    {
     "data": {
      "text/plain": [
       "[0, 2, 2, 6, 4, 10, 6, 14, 8, 18]"
      ]
     },
     "execution_count": 152,
     "metadata": {},
     "output_type": "execute_result"
    }
   ],
   "source": [
    "def raddoppia(nums):\n",
    "    for i, num in enumerate(nums):\n",
    "        if num % 2 == 1:\n",
    "            nums[i] = num * 2\n",
    "\n",
    "x = list(range(10))\n",
    "raddoppia(x)\n",
    "x"
   ]
  },
  {
   "cell_type": "code",
   "execution_count": 159,
   "metadata": {},
   "outputs": [
    {
     "data": {
      "text/plain": [
       "[(0, 'a'), (1, 'b')]"
      ]
     },
     "execution_count": 159,
     "metadata": {},
     "output_type": "execute_result"
    }
   ],
   "source": [
    "list(enumerate(['a', 'b']))"
   ]
  },
  {
   "cell_type": "code",
   "execution_count": 160,
   "metadata": {},
   "outputs": [
    {
     "name": "stdout",
     "output_type": "stream",
     "text": [
      "uno = 1 = I; due = 2 = II; tre = 3 = III; quattro = 4 = IV; "
     ]
    }
   ],
   "source": [
    "nums = [\n",
    "    ('uno', 1, 'I'),\n",
    "    ('due', 2, 'II'),\n",
    "    ('tre', 3, 'III'),\n",
    "    ('quattro', 4, 'IV'),\n",
    "]\n",
    "\n",
    "for parola, intero, numero_romano in nums:\n",
    "    print(parola, intero, numero_romano, sep=' = ', end='; ')"
   ]
  },
  {
   "cell_type": "markdown",
   "metadata": {},
   "source": [
    "Quest'ultimo codice appena eseguito è sicuramente più veloce e chiaro del seguente:"
   ]
  },
  {
   "cell_type": "code",
   "execution_count": 161,
   "metadata": {},
   "outputs": [
    {
     "name": "stdout",
     "output_type": "stream",
     "text": [
      "uno = 1 = I;due = 2 = II;tre = 3 = III;quattro = 4 = IV;"
     ]
    }
   ],
   "source": [
    "for tup in nums:\n",
    "    parola = tup[0]\n",
    "    intero = tup[1]\n",
    "    numero_romano = tup[2]\n",
    "    print(parola, intero, numero_romano, sep=' = ', end=';')"
   ]
  },
  {
   "cell_type": "markdown",
   "metadata": {},
   "source": [
    "Un altro loop, molto famoso è il **while loops**"
   ]
  },
  {
   "cell_type": "code",
   "execution_count": 162,
   "metadata": {},
   "outputs": [
    {
     "name": "stdout",
     "output_type": "stream",
     "text": [
      "0 1 2 3 4 5 6 7 8 9 "
     ]
    }
   ],
   "source": [
    "i = 0\n",
    "while i < 10:\n",
    "    print(i, end=' ')\n",
    "    i += 1"
   ]
  },
  {
   "cell_type": "markdown",
   "metadata": {},
   "source": [
    "Di seguito altre tecniche che possono essere usate con le liste, soprattutto per rispiarmare righe di codice."
   ]
  },
  {
   "cell_type": "code",
   "execution_count": 163,
   "metadata": {},
   "outputs": [
    {
     "data": {
      "text/plain": [
       "[0, 1, 4, 9, 16, 25, 36, 49, 64, 81]"
      ]
     },
     "execution_count": 163,
     "metadata": {},
     "output_type": "execute_result"
    }
   ],
   "source": [
    "quadrati = [n**2 for n in range(10)]\n",
    "quadrati"
   ]
  },
  {
   "cell_type": "markdown",
   "metadata": {},
   "source": [
    "Senza usare la tecnica vista prima si poteva ottenere lo stesso risultato nel seguente modo:"
   ]
  },
  {
   "cell_type": "code",
   "execution_count": 164,
   "metadata": {},
   "outputs": [
    {
     "data": {
      "text/plain": [
       "[0, 1, 4, 9, 16, 25, 36, 49, 64, 81]"
      ]
     },
     "execution_count": 164,
     "metadata": {},
     "output_type": "execute_result"
    }
   ],
   "source": [
    "quadrati = []\n",
    "for n in range(10):\n",
    "    quadrati.append(n**2)\n",
    "quadrati"
   ]
  },
  {
   "cell_type": "code",
   "execution_count": 168,
   "metadata": {},
   "outputs": [
    {
     "data": {
      "text/plain": [
       "['Terra', 'Marte', 'Giove', 'Urano']"
      ]
     },
     "execution_count": 168,
     "metadata": {},
     "output_type": "execute_result"
    }
   ],
   "source": [
    "Pianeti_abbr = [Pianeta for Pianeta in Pianeti if len(Pianeta) < 6]\n",
    "Pianeti_abbr"
   ]
  },
  {
   "cell_type": "code",
   "execution_count": 169,
   "metadata": {},
   "outputs": [
    {
     "data": {
      "text/plain": [
       "['TERRA!', 'MARTE!', 'GIOVE!', 'URANO!']"
      ]
     },
     "execution_count": 169,
     "metadata": {},
     "output_type": "execute_result"
    }
   ],
   "source": [
    "[\n",
    "    Pianeta.upper() + '!'\n",
    "    for Pianeta in Pianeti\n",
    "    if len(Pianeta) < 6\n",
    "]"
   ]
  },
  {
   "cell_type": "markdown",
   "metadata": {},
   "source": [
    "Di seguito tre modi diversi, per fare un codice in cui si contano i numeri negativi contenuti in una lista."
   ]
  },
  {
   "cell_type": "code",
   "execution_count": 170,
   "metadata": {
    "collapsed": true
   },
   "outputs": [],
   "source": [
    "def conta_negativi(nums):\n",
    "    \"\"\"Indica quanti numeri negativi ci sono in una lista.\n",
    "    \n",
    "    >>> conta_negativi([5, -1, -2, 0, 3])\n",
    "    2\n",
    "    \"\"\"\n",
    "    n_negativi = 0\n",
    "    for num in nums:\n",
    "        if num < 0:\n",
    "            n_negativi = n_negativi + 1\n",
    "    return n_negativi\n"
   ]
  },
  {
   "cell_type": "code",
   "execution_count": null,
   "metadata": {
    "collapsed": true
   },
   "outputs": [],
   "source": [
    "def conta_negativi(nums):\n",
    "    return len([num for num in nums if num < 0])"
   ]
  },
  {
   "cell_type": "code",
   "execution_count": null,
   "metadata": {
    "collapsed": true
   },
   "outputs": [],
   "source": [
    "def conta_negativi(nums):\n",
    "    return sum([num < 0 for num in nums])"
   ]
  },
  {
   "cell_type": "markdown",
   "metadata": {},
   "source": [
    "<a id='section6'></a>\n",
    "## 6) Le Stringhe"
   ]
  },
  {
   "cell_type": "markdown",
   "metadata": {},
   "source": [
    "In questo paragrafo vedermo i principali metodi e operazioni di formattazione che è possibile usare sulle stringhe. <br>\n",
    "Le stringhe in Python possono essere definite utilizzando sia i doppi apici che i singoli apici."
   ]
  },
  {
   "cell_type": "code",
   "execution_count": 171,
   "metadata": {},
   "outputs": [
    {
     "data": {
      "text/plain": [
       "True"
      ]
     },
     "execution_count": 171,
     "metadata": {},
     "output_type": "execute_result"
    }
   ],
   "source": [
    "x = 'Plutone è un pianeta'\n",
    "y = \"Plutone è un pianeta\"\n",
    "x == y"
   ]
  },
  {
   "cell_type": "markdown",
   "metadata": {},
   "source": [
    "Per evitare errori di formattazione è possibile usare i doppi apici o i singoli apici all'interno delle stringhe a seconda che si siano usati singoli apici o doppi apici come delimitatori, ad esempio:"
   ]
  },
  {
   "cell_type": "code",
   "execution_count": 174,
   "metadata": {
    "scrolled": true
   },
   "outputs": [
    {
     "ename": "SyntaxError",
     "evalue": "invalid syntax (<ipython-input-174-b90bf0833c32>, line 2)",
     "output_type": "error",
     "traceback": [
      "\u001b[0;36m  File \u001b[0;32m\"<ipython-input-174-b90bf0833c32>\"\u001b[0;36m, line \u001b[0;32m2\u001b[0m\n\u001b[0;31m    'Anch'io sono un pianeta!'\u001b[0m\n\u001b[0m           ^\u001b[0m\n\u001b[0;31mSyntaxError\u001b[0m\u001b[0;31m:\u001b[0m invalid syntax\n"
     ]
    }
   ],
   "source": [
    "# In questo caso otterrremmo errore\n",
    "'Anch'io sono un pianeta!'"
   ]
  },
  {
   "cell_type": "markdown",
   "metadata": {},
   "source": [
    "È possibile risolvere questo errore utilizzando il simbolo \\ prima dell'apice interno alla frase."
   ]
  },
  {
   "cell_type": "code",
   "execution_count": 175,
   "metadata": {},
   "outputs": [
    {
     "data": {
      "text/plain": [
       "\"Anch'io sono un pianeta!\""
      ]
     },
     "execution_count": 175,
     "metadata": {},
     "output_type": "execute_result"
    }
   ],
   "source": [
    "'Anch\\'io sono un pianeta!'"
   ]
  },
  {
   "cell_type": "markdown",
   "metadata": {},
   "source": [
    "Oppure"
   ]
  },
  {
   "cell_type": "code",
   "execution_count": 176,
   "metadata": {},
   "outputs": [
    {
     "data": {
      "text/plain": [
       "\"Anch'io sono un pianeta\""
      ]
     },
     "execution_count": 176,
     "metadata": {},
     "output_type": "execute_result"
    }
   ],
   "source": [
    "\"Anch'io sono un pianeta\""
   ]
  },
  {
   "cell_type": "markdown",
   "metadata": {},
   "source": [
    "La seguente tabella riepiloga i principali utilizzi del simbolo \\ all'interno di una stringa:\n",
    "<img src='blackslash_caracter.jpg'>"
   ]
  },
  {
   "cell_type": "markdown",
   "metadata": {},
   "source": [
    "Le stringhe possono essere viste come una sequenza di caratteri, perciò tutte le cose che si sono viste per le liste possono essere applicate alle stringhe."
   ]
  },
  {
   "cell_type": "code",
   "execution_count": 183,
   "metadata": {},
   "outputs": [
    {
     "data": {
      "text/plain": [
       "'u'"
      ]
     },
     "execution_count": 183,
     "metadata": {},
     "output_type": "execute_result"
    }
   ],
   "source": [
    "# Indicizzazione\n",
    "pianeta = 'Plutone'\n",
    "pianeta[2]"
   ]
  },
  {
   "cell_type": "code",
   "execution_count": 184,
   "metadata": {},
   "outputs": [
    {
     "data": {
      "text/plain": [
       "'one'"
      ]
     },
     "execution_count": 184,
     "metadata": {},
     "output_type": "execute_result"
    }
   ],
   "source": [
    "# Slicing\n",
    "pianeta[-3:]"
   ]
  },
  {
   "cell_type": "code",
   "execution_count": 185,
   "metadata": {},
   "outputs": [
    {
     "data": {
      "text/plain": [
       "7"
      ]
     },
     "execution_count": 185,
     "metadata": {},
     "output_type": "execute_result"
    }
   ],
   "source": [
    "# Quanto è lunga la stringa?\n",
    "len(pianeta)"
   ]
  },
  {
   "cell_type": "code",
   "execution_count": 186,
   "metadata": {},
   "outputs": [
    {
     "data": {
      "text/plain": [
       "['P!', 'l!', 'u!', 't!', 'o!', 'n!', 'e!']"
      ]
     },
     "execution_count": 186,
     "metadata": {},
     "output_type": "execute_result"
    }
   ],
   "source": [
    "# È possibile fare un loop utilizzando la lunghezza di una stringa\n",
    "[char+'!' for char in pianeta]"
   ]
  },
  {
   "cell_type": "markdown",
   "metadata": {},
   "source": [
    "Tuttavia, a differenza delle liste, **le stringhe sono immutabili**."
   ]
  },
  {
   "cell_type": "code",
   "execution_count": 187,
   "metadata": {},
   "outputs": [
    {
     "ename": "TypeError",
     "evalue": "'str' object does not support item assignment",
     "output_type": "error",
     "traceback": [
      "\u001b[0;31m---------------------------------------------------------------------------\u001b[0m",
      "\u001b[0;31mTypeError\u001b[0m                                 Traceback (most recent call last)",
      "\u001b[0;32m<ipython-input-187-f3f56d8a8651>\u001b[0m in \u001b[0;36m<module>\u001b[0;34m()\u001b[0m\n\u001b[0;32m----> 1\u001b[0;31m \u001b[0mpianeta\u001b[0m\u001b[1;33m[\u001b[0m\u001b[1;36m0\u001b[0m\u001b[1;33m]\u001b[0m\u001b[1;33m=\u001b[0m\u001b[1;34m'B'\u001b[0m\u001b[1;33m\u001b[0m\u001b[0m\n\u001b[0m",
      "\u001b[0;31mTypeError\u001b[0m: 'str' object does not support item assignment"
     ]
    }
   ],
   "source": [
    "pianeta[0]='B'"
   ]
  },
  {
   "cell_type": "markdown",
   "metadata": {},
   "source": [
    "Anche le stringhe, come le liste hanno dei metodi associati al loro oggetto."
   ]
  },
  {
   "cell_type": "code",
   "execution_count": 188,
   "metadata": {},
   "outputs": [
    {
     "data": {
      "text/plain": [
       "'PLUTONE È UN PIANETA'"
      ]
     },
     "execution_count": 188,
     "metadata": {},
     "output_type": "execute_result"
    }
   ],
   "source": [
    "frase = \"Plutone è un pianeta\"\n",
    "frase.upper()"
   ]
  },
  {
   "cell_type": "code",
   "execution_count": 189,
   "metadata": {},
   "outputs": [
    {
     "data": {
      "text/plain": [
       "'plutone è un pianeta'"
      ]
     },
     "execution_count": 189,
     "metadata": {},
     "output_type": "execute_result"
    }
   ],
   "source": [
    "frase.lower()"
   ]
  },
  {
   "cell_type": "code",
   "execution_count": 190,
   "metadata": {},
   "outputs": [
    {
     "data": {
      "text/plain": [
       "10"
      ]
     },
     "execution_count": 190,
     "metadata": {},
     "output_type": "execute_result"
    }
   ],
   "source": [
    "frase.index('un')"
   ]
  },
  {
   "cell_type": "code",
   "execution_count": 191,
   "metadata": {},
   "outputs": [
    {
     "data": {
      "text/plain": [
       "['Plutone', 'è', 'un', 'pianeta']"
      ]
     },
     "execution_count": 191,
     "metadata": {},
     "output_type": "execute_result"
    }
   ],
   "source": [
    "frase.split()"
   ]
  },
  {
   "cell_type": "code",
   "execution_count": 194,
   "metadata": {},
   "outputs": [
    {
     "name": "stdout",
     "output_type": "stream",
     "text": [
      "1991\n",
      "07\n",
      "12\n"
     ]
    }
   ],
   "source": [
    "data_stringa = '1991-07-12'\n",
    "anno, mese, giorno = data_stringa.split('-')\n",
    "\n",
    "print(anno)\n",
    "print(mese)\n",
    "print(giorno)"
   ]
  },
  {
   "cell_type": "code",
   "execution_count": 195,
   "metadata": {},
   "outputs": [
    {
     "data": {
      "text/plain": [
       "'12/07/1991'"
      ]
     },
     "execution_count": 195,
     "metadata": {},
     "output_type": "execute_result"
    }
   ],
   "source": [
    "'/'.join([giorno, mese, anno])"
   ]
  },
  {
   "cell_type": "markdown",
   "metadata": {},
   "source": [
    "È possibile unire più stringhe con Python utilizzando l'operatore **+**"
   ]
  },
  {
   "cell_type": "code",
   "execution_count": 197,
   "metadata": {},
   "outputs": [
    {
     "data": {
      "text/plain": [
       "'Plutone, sei troppo lontano'"
      ]
     },
     "execution_count": 197,
     "metadata": {},
     "output_type": "execute_result"
    }
   ],
   "source": [
    "pianeta + \", sei troppo lontano\""
   ]
  },
  {
   "cell_type": "markdown",
   "metadata": {},
   "source": [
    "Tuttavia è necessario utilizzare la funzione **str()** qualora si volesse unire un oggetto non-stringa ad una stringa"
   ]
  },
  {
   "cell_type": "code",
   "execution_count": 199,
   "metadata": {},
   "outputs": [
    {
     "data": {
      "text/plain": [
       "'Sei arrivato 9 su 10 partecipanti.'"
      ]
     },
     "execution_count": 199,
     "metadata": {},
     "output_type": "execute_result"
    }
   ],
   "source": [
    "position = 9\n",
    "\"Sei arrivato \" + str(position) + \" su 10 partecipanti.\""
   ]
  },
  {
   "cell_type": "markdown",
   "metadata": {},
   "source": [
    "Oppure la funzione **str.format()**:"
   ]
  },
  {
   "cell_type": "code",
   "execution_count": 200,
   "metadata": {},
   "outputs": [
    {
     "data": {
      "text/plain": [
       "'Sei arrivato 9 su 10 partecipanti.'"
      ]
     },
     "execution_count": 200,
     "metadata": {},
     "output_type": "execute_result"
    }
   ],
   "source": [
    "\"Sei arrivato {} su {} partecipanti.\".format(position, position + 1)"
   ]
  },
  {
   "cell_type": "code",
   "execution_count": 202,
   "metadata": {},
   "outputs": [
    {
     "data": {
      "text/plain": [
       "'Ho comprato le azioni al prezzo di 5.2 e le ho vendute a 6, registrando una performance di 14.29%'"
      ]
     },
     "execution_count": 202,
     "metadata": {},
     "output_type": "execute_result"
    }
   ],
   "source": [
    "prezzo_init = 5.25\n",
    "prezzo_fin = 6\n",
    "performance = (prezzo_fin - prezzo_init)/prezzo_init\n",
    "# Nella frase stampero le cifre decimali e \n",
    "# la performance in termini percentuali\n",
    "\"Ho comprato le azioni al prezzo di {:.2} e le ho vendute a {}, registrando \\\n",
    "una performance di {:.2%}\".format(prezzo_init, prezzo_fin, performance)\n"
   ]
  },
  {
   "cell_type": "code",
   "execution_count": 204,
   "metadata": {},
   "outputs": [
    {
     "name": "stdout",
     "output_type": "stream",
     "text": [
      "Plutone è un pianeta, non una mela. Preferisco una mela ad un pianeta\n"
     ]
    }
   ],
   "source": [
    "# È possibile identificare dei riferimenti \n",
    "# alle parole all'interno delle stringhe\n",
    "s = \"Plutone è un {0}, non una {1}. \\\n",
    "Preferisco una {1} ad un {0}\".format('pianeta', 'mela')\n",
    "print(s)"
   ]
  },
  {
   "cell_type": "markdown",
   "metadata": {},
   "source": [
    "<a id='section7'></a>\n",
    "## 7) I dizionari"
   ]
  },
  {
   "cell_type": "markdown",
   "metadata": {},
   "source": [
    "I dizionari sono delle strutture pre impostate di Python che permettono di mappare dei valori su delle chiavi. Ad esempio:"
   ]
  },
  {
   "cell_type": "code",
   "execution_count": 205,
   "metadata": {
    "collapsed": true
   },
   "outputs": [],
   "source": [
    "numeri = {'uno': 1, 'due': 2, 'tre': 3}"
   ]
  },
  {
   "cell_type": "markdown",
   "metadata": {},
   "source": [
    "In questo caso 'uno', 'due' e 'tre' sono le **chiavi**, mentre 1, 2 e 3 sono i loro corrispondenti **valori**. <br>\n",
    "È possibile accedere ai valori attraverso l'utilizzo delle parentesi quadre come si fa con le liste e con le stringhe."
   ]
  },
  {
   "cell_type": "code",
   "execution_count": 206,
   "metadata": {},
   "outputs": [
    {
     "data": {
      "text/plain": [
       "1"
      ]
     },
     "execution_count": 206,
     "metadata": {},
     "output_type": "execute_result"
    }
   ],
   "source": [
    "numeri['uno']"
   ]
  },
  {
   "cell_type": "markdown",
   "metadata": {},
   "source": [
    "È possibile aggiungere dei nuovi valori al dizionario, identificando semplicemente una nuova chiave, ad esempio:"
   ]
  },
  {
   "cell_type": "code",
   "execution_count": 207,
   "metadata": {},
   "outputs": [
    {
     "data": {
      "text/plain": [
       "{'due': 2, 'quattro': 4, 'tre': 3, 'uno': 1}"
      ]
     },
     "execution_count": 207,
     "metadata": {},
     "output_type": "execute_result"
    }
   ],
   "source": [
    "numeri['quattro'] = 4\n",
    "numeri"
   ]
  },
  {
   "cell_type": "markdown",
   "metadata": {},
   "source": [
    "È possibile anche cambiare un valore associato ad una chiave già esistente:"
   ]
  },
  {
   "cell_type": "code",
   "execution_count": 208,
   "metadata": {},
   "outputs": [
    {
     "data": {
      "text/plain": [
       "{'due': 2, 'quattro': 4, 'tre': 3, 'uno': 0}"
      ]
     },
     "execution_count": 208,
     "metadata": {},
     "output_type": "execute_result"
    }
   ],
   "source": [
    "numeri['uno'] = 0\n",
    "numeri"
   ]
  },
  {
   "cell_type": "markdown",
   "metadata": {},
   "source": [
    "La sintassi usata per i dizionari è molto simile a quella vista per le liste."
   ]
  },
  {
   "cell_type": "code",
   "execution_count": 212,
   "metadata": {},
   "outputs": [
    {
     "data": {
      "text/plain": [
       "{'Giove': 'G',\n",
       " 'Marte': 'M',\n",
       " 'Mercurio': 'M',\n",
       " 'Nettuno': 'N',\n",
       " 'Saturno': 'S',\n",
       " 'Terra': 'T',\n",
       " 'Urano': 'U',\n",
       " 'Venere': 'V'}"
      ]
     },
     "execution_count": 212,
     "metadata": {},
     "output_type": "execute_result"
    }
   ],
   "source": [
    "pianeta_iniziale = {pianeta: pianeta[0] for pianeta in Pianeti}\n",
    "pianeta_iniziale"
   ]
  },
  {
   "cell_type": "markdown",
   "metadata": {},
   "source": [
    "L'operatore **in** può essere usato per capire se un elemento si trova dentro un dizionario."
   ]
  },
  {
   "cell_type": "code",
   "execution_count": 213,
   "metadata": {},
   "outputs": [
    {
     "data": {
      "text/plain": [
       "True"
      ]
     },
     "execution_count": 213,
     "metadata": {},
     "output_type": "execute_result"
    }
   ],
   "source": [
    "'Saturno' in Pianeti"
   ]
  },
  {
   "cell_type": "code",
   "execution_count": 214,
   "metadata": {},
   "outputs": [
    {
     "data": {
      "text/plain": [
       "False"
      ]
     },
     "execution_count": 214,
     "metadata": {},
     "output_type": "execute_result"
    }
   ],
   "source": [
    "'Pianeta X' in Pianeti"
   ]
  },
  {
   "cell_type": "markdown",
   "metadata": {},
   "source": [
    "Un loop for su un dizionario effettua il loop sulle chiavi del dizionario, ad esempio:"
   ]
  },
  {
   "cell_type": "code",
   "execution_count": 215,
   "metadata": {},
   "outputs": [
    {
     "name": "stdout",
     "output_type": "stream",
     "text": [
      "uno = 0\n",
      "due = 2\n",
      "tre = 3\n",
      "quattro = 4\n"
     ]
    }
   ],
   "source": [
    "for k in numeri:\n",
    "    print(\"{} = {}\".format(k, numeri[k]))"
   ]
  },
  {
   "cell_type": "markdown",
   "metadata": {},
   "source": [
    "È possibile accedere direttamente a tutte le chiavi o a tutti i valori di un dizionario attraverso i seguenti metodi dell'oggetto dizionario **dict.keys()** e **dict.values()**."
   ]
  },
  {
   "cell_type": "code",
   "execution_count": 218,
   "metadata": {},
   "outputs": [
    {
     "data": {
      "text/plain": [
       "dict_keys(['uno', 'due', 'tre', 'quattro'])"
      ]
     },
     "execution_count": 218,
     "metadata": {},
     "output_type": "execute_result"
    }
   ],
   "source": [
    "numeri.keys()"
   ]
  },
  {
   "cell_type": "code",
   "execution_count": 219,
   "metadata": {},
   "outputs": [
    {
     "data": {
      "text/plain": [
       "dict_values([0, 2, 3, 4])"
      ]
     },
     "execution_count": 219,
     "metadata": {},
     "output_type": "execute_result"
    }
   ],
   "source": [
    "numeri.values()"
   ]
  },
  {
   "cell_type": "markdown",
   "metadata": {},
   "source": [
    "Uno dei metodi più utili quando si usano i dizionari è **dict.items()**, questo metodo ci permette di iteerare le chiavi e i valori di un dizionario simultaneamente."
   ]
  },
  {
   "cell_type": "code",
   "execution_count": 220,
   "metadata": {},
   "outputs": [
    {
     "name": "stdout",
     "output_type": "stream",
     "text": [
      "  Mercurio inizia con 'M'\n",
      "    Venere inizia con 'V'\n",
      "     Terra inizia con 'T'\n",
      "     Marte inizia con 'M'\n",
      "     Giove inizia con 'G'\n",
      "   Saturno inizia con 'S'\n",
      "     Urano inizia con 'U'\n",
      "   Nettuno inizia con 'N'\n"
     ]
    }
   ],
   "source": [
    "for pianeta, iniziale_pianeta in pianeta_iniziale.items():\n",
    "    print(\"{} inizia con '{}'\".format(pianeta.rjust(10), iniziale_pianeta))"
   ]
  },
  {
   "cell_type": "markdown",
   "metadata": {},
   "source": [
    "<a id='section8'></a>\n",
    "## 8) Le librerie esterne"
   ]
  },
  {
   "cell_type": "markdown",
   "metadata": {},
   "source": [
    "Una delle qualità principali di Python è l'elevato numero di librerie personalizzate che sono state scritte per questo linguaggio di programmazione. Alcune di queste librerie sono *standard*, ovvero possono essere trovate in qualsiasi Python; tuttavia le librerie che non sono comprese di default in Python possono essere facilmente richiamate attraverso la parola chiave **import**. <br>\n",
    "Importiamo la libreria *math* così come abbiamo fatto nel primo script di questo notebook."
   ]
  },
  {
   "cell_type": "code",
   "execution_count": 221,
   "metadata": {},
   "outputs": [
    {
     "name": "stdout",
     "output_type": "stream",
     "text": [
      "Math è di questo tipo: <class 'module'>\n"
     ]
    }
   ],
   "source": [
    "import math\n",
    "\n",
    "print(\"Math è di questo tipo: {}\".format(type(math)))"
   ]
  },
  {
   "cell_type": "markdown",
   "metadata": {},
   "source": [
    "Math è un modulo, ovvero una collezione di variabili definite da qualcun altro. È possibile osservare tutte le variabili contenute in Math utilizzando la funzione **dir()**."
   ]
  },
  {
   "cell_type": "code",
   "execution_count": 222,
   "metadata": {},
   "outputs": [
    {
     "name": "stdout",
     "output_type": "stream",
     "text": [
      "['__doc__', '__loader__', '__name__', '__package__', '__spec__', 'acos', 'acosh', 'asin', 'asinh', 'atan', 'atan2', 'atanh', 'ceil', 'copysign', 'cos', 'cosh', 'degrees', 'e', 'erf', 'erfc', 'exp', 'expm1', 'fabs', 'factorial', 'floor', 'fmod', 'frexp', 'fsum', 'gamma', 'gcd', 'hypot', 'inf', 'isclose', 'isfinite', 'isinf', 'isnan', 'ldexp', 'lgamma', 'log', 'log10', 'log1p', 'log2', 'modf', 'nan', 'pi', 'pow', 'radians', 'sin', 'sinh', 'sqrt', 'tan', 'tanh', 'tau', 'trunc']\n"
     ]
    }
   ],
   "source": [
    "print(dir(math))"
   ]
  },
  {
   "cell_type": "code",
   "execution_count": 223,
   "metadata": {},
   "outputs": [
    {
     "name": "stdout",
     "output_type": "stream",
     "text": [
      "I primi quattro numeri del pi-quadro sono = 3.142\n"
     ]
    }
   ],
   "source": [
    "print(\"I primi quattro numeri del pi-quadro sono = {:.4}\".format(math.pi))"
   ]
  },
  {
   "cell_type": "code",
   "execution_count": 224,
   "metadata": {},
   "outputs": [
    {
     "data": {
      "text/plain": [
       "5.0"
      ]
     },
     "execution_count": 224,
     "metadata": {},
     "output_type": "execute_result"
    }
   ],
   "source": [
    "math.log(32,2)"
   ]
  },
  {
   "cell_type": "code",
   "execution_count": 225,
   "metadata": {},
   "outputs": [
    {
     "name": "stdout",
     "output_type": "stream",
     "text": [
      "Help on built-in function log in module math:\n",
      "\n",
      "log(...)\n",
      "    log(x[, base])\n",
      "    \n",
      "    Return the logarithm of x to the given base.\n",
      "    If the base not specified, returns the natural logarithm (base e) of x.\n",
      "\n"
     ]
    }
   ],
   "source": [
    "help(math.log)"
   ]
  },
  {
   "cell_type": "markdown",
   "metadata": {},
   "source": [
    "Come abbiamo accennato all'inizio di questo notebook, quando si importa una libreria è possibile assegnarle un nome abbreviato per poterlo riusare nel codice."
   ]
  },
  {
   "cell_type": "code",
   "execution_count": 226,
   "metadata": {},
   "outputs": [
    {
     "data": {
      "text/plain": [
       "3.141592653589793"
      ]
     },
     "execution_count": 226,
     "metadata": {},
     "output_type": "execute_result"
    }
   ],
   "source": [
    "import math as mt\n",
    "mt.pi"
   ]
  },
  {
   "cell_type": "markdown",
   "metadata": {},
   "source": [
    "È possibile importare anche solo una particolare variabile contenuta all'interno della libreria senza dover importarsi tutta la libreria, in questo caso potremmo usare la seguente notazione:"
   ]
  },
  {
   "cell_type": "code",
   "execution_count": 227,
   "metadata": {},
   "outputs": [
    {
     "name": "stdout",
     "output_type": "stream",
     "text": [
      "3.141592653589793\n"
     ]
    }
   ],
   "source": [
    "from math import pi\n",
    "print(pi)"
   ]
  },
  {
   "cell_type": "code",
   "execution_count": 228,
   "metadata": {},
   "outputs": [
    {
     "ename": "TypeError",
     "evalue": "return arrays must be of ArrayType",
     "output_type": "error",
     "traceback": [
      "\u001b[0;31m---------------------------------------------------------------------------\u001b[0m",
      "\u001b[0;31mTypeError\u001b[0m                                 Traceback (most recent call last)",
      "\u001b[0;32m<ipython-input-228-3fa5f40470ac>\u001b[0m in \u001b[0;36m<module>\u001b[0;34m()\u001b[0m\n\u001b[1;32m      1\u001b[0m \u001b[1;32mfrom\u001b[0m \u001b[0mmath\u001b[0m \u001b[1;32mimport\u001b[0m \u001b[1;33m*\u001b[0m\u001b[1;33m\u001b[0m\u001b[0m\n\u001b[1;32m      2\u001b[0m \u001b[1;32mfrom\u001b[0m \u001b[0mnumpy\u001b[0m \u001b[1;32mimport\u001b[0m \u001b[1;33m*\u001b[0m\u001b[1;33m\u001b[0m\u001b[0m\n\u001b[0;32m----> 3\u001b[0;31m \u001b[0mprint\u001b[0m\u001b[1;33m(\u001b[0m\u001b[0mpi\u001b[0m\u001b[1;33m,\u001b[0m \u001b[0mlog\u001b[0m\u001b[1;33m(\u001b[0m\u001b[1;36m32\u001b[0m\u001b[1;33m,\u001b[0m\u001b[1;36m2\u001b[0m\u001b[1;33m)\u001b[0m\u001b[1;33m)\u001b[0m\u001b[1;33m\u001b[0m\u001b[0m\n\u001b[0m",
      "\u001b[0;31mTypeError\u001b[0m: return arrays must be of ArrayType"
     ]
    }
   ],
   "source": [
    "from math import *\n",
    "from numpy import *\n",
    "print(pi, log(32,2))"
   ]
  },
  {
   "cell_type": "markdown",
   "metadata": {},
   "source": [
    "In questo caso abbiamo riscontrato un errore poichè la variabile **log** è contenuta sia nella libreria *math* che nella *numpy*, ma ha differenti input. Poichè abbiamo importato anche la libreria *numpy* in questo caso il log di quest'ultima libreria ha sovrascritto il log della libreria math.<br>\n",
    "Un modo per risolvere il problema di prima è importare solamente ciò che vogliamo davvero usare, ad esempio:"
   ]
  },
  {
   "cell_type": "code",
   "execution_count": 232,
   "metadata": {},
   "outputs": [
    {
     "name": "stdout",
     "output_type": "stream",
     "text": [
      "3.141592653589793 5.0\n"
     ]
    }
   ],
   "source": [
    "from math import log, pi\n",
    "from numpy import asarray\n",
    "print(pi, log(32,2))"
   ]
  },
  {
   "cell_type": "markdown",
   "metadata": {},
   "source": [
    "In generale, se incontriamo degli oggetti di Python che non conosciamo possiamo utilizzare tre funzioni pre-impostate di Python:<br>\n",
    "- 1)**type()** : ci dice cos'è l'oggetto;\n",
    "- 2)**dir()**: ci dice cosa può fare l'oggetto;\n",
    "- 3)**help()**: ci dice più in dettaglio i metodi associati all'oggetto e le loro funzionalità"
   ]
  },
  {
   "cell_type": "markdown",
   "metadata": {},
   "source": [
    "[Clicca qui per tornare all'inizio della pagina](#start)<a id='start'></a>"
   ]
  },
  {
   "cell_type": "markdown",
   "metadata": {},
   "source": [
    "Con questo paragrafo si conclude il notebook \"Introduction to Python\", clicca qui per passare al prossimo notebook \"Collecting\"."
   ]
  },
  {
   "cell_type": "markdown",
   "metadata": {},
   "source": [
    "Per eventuali dubbi ci potete scrivere su Teams!<br>\n",
    "A presto!"
   ]
  }
 ],
 "metadata": {
  "kernelspec": {
   "display_name": "Python 3",
   "language": "python",
   "name": "python3"
  },
  "language_info": {
   "codemirror_mode": {
    "name": "ipython",
    "version": 3
   },
   "file_extension": ".py",
   "mimetype": "text/x-python",
   "name": "python",
   "nbconvert_exporter": "python",
   "pygments_lexer": "ipython3",
   "version": "3.7.0"
  }
 },
 "nbformat": 4,
 "nbformat_minor": 2
}
